{
  "nbformat": 4,
  "nbformat_minor": 0,
  "metadata": {
    "colab": {
      "provenance": [],
      "authorship_tag": "ABX9TyNpJjj2g3HjqDxKBEDdcoB5",
      "include_colab_link": true
    },
    "kernelspec": {
      "name": "python3",
      "display_name": "Python 3"
    },
    "language_info": {
      "name": "python"
    }
  },
  "cells": [
    {
      "cell_type": "markdown",
      "metadata": {
        "id": "view-in-github",
        "colab_type": "text"
      },
      "source": [
        "<a href=\"https://colab.research.google.com/github/HrithikVaya007/Churn-Predictor-App/blob/main/churn_predictor.ipynb\" target=\"_parent\"><img src=\"https://colab.research.google.com/assets/colab-badge.svg\" alt=\"Open In Colab\"/></a>"
      ]
    },
    {
      "cell_type": "code",
      "source": [
        "code = \"\"\"\n",
        "import streamlit as st\n",
        "import pandas as pd\n",
        "import numpy as np\n",
        "from sklearn.preprocessing import PolynomialFeatures\n",
        "from sklearn.linear_model import LinearRegression\n",
        "from sklearn.metrics import mean_squared_error\n",
        "import matplotlib.pyplot as plt\n",
        "\n",
        "# Set page layout and title\n",
        "st.set_page_config(layout=\"wide\")\n",
        "st.title(\"!!!Universal Customer Churn Predictor Just Upload any Churn File in .csv format!!!\")\n",
        "\n",
        "# Allow user to upload a CSV file\n",
        "uploaded_file = st.file_uploader(\" Upload your dataset (CSV)\", type=[\"csv\"])\n",
        "\n",
        "if uploaded_file:\n",
        "    # Load the uploaded CSV file into a DataFrame\n",
        "    df = pd.read_csv(uploaded_file)\n",
        "\n",
        "    # Try to clean common numeric columns that may be wrongly typed as strings\n",
        "    for col in ['TotalCharges', 'MonthlyCharges']:\n",
        "        if col in df.columns:\n",
        "            df[col] = pd.to_numeric(df[col], errors='coerce')\n",
        "\n",
        "    # Show the first few rows of the dataset\n",
        "    st.write(\" Dataset Preview:\", df.head())\n",
        "\n",
        "    # Try to automatically detect a churn/target column\n",
        "    binary_candidates = [col for col in df.columns if df[col].nunique() == 2]\n",
        "    churn_name_matches = [col for col in df.columns if any(key in col.lower() for key in ['churn', 'exited', 'target'])]\n",
        "    default_churn = churn_name_matches[0] if churn_name_matches else (binary_candidates[0] if binary_candidates else None)\n",
        "\n",
        "    if not default_churn:\n",
        "        st.error(\" Could not detect a binary churn column. Please ensure your dataset has a 0/1 or Yes/No target column.\")\n",
        "        st.stop()\n",
        "\n",
        "    # Let user confirm or choose the churn column\n",
        "    churn_column = st.selectbox(\" Select churn column (binary)\", options=binary_candidates, index=binary_candidates.index(default_churn))\n",
        "\n",
        "    # Convert 'Yes'/'No' or '1'/'0' text values to binary 1/0\n",
        "    y_raw = df[churn_column]\n",
        "    if y_raw.dtype == 'O':\n",
        "        y = y_raw.astype(str).str.strip().str.lower().map({'yes': 1, 'no': 0, '1': 1, '0': 0})\n",
        "    else:\n",
        "        y = y_raw.copy()\n",
        "\n",
        "    # If everything became NaN after mapping, show an error\n",
        "    if y.isna().all():\n",
        "        st.error(\" Churn column could not be interpreted as binary (Yes/No or 0/1). Please check your data.\")\n",
        "        st.stop()\n",
        "\n",
        "    # Get numeric feature columns, excluding obvious ID fields and the churn column\n",
        "    numeric_columns = df.select_dtypes(include=[np.number]).columns\n",
        "    feature_candidates = [col for col in numeric_columns if col.lower() not in ['seniorcitizen', 'customerid'] and col != churn_column]\n",
        "\n",
        "    if not feature_candidates:\n",
        "        st.error(\" No valid numeric feature columns found for prediction.\")\n",
        "        st.stop()\n",
        "\n",
        "    # Let user select a numeric column to use as input feature\n",
        "    default_feature = 'MonthlyCharges' if 'MonthlyCharges' in feature_candidates else feature_candidates[0]\n",
        "    feature_column = st.selectbox(\" Select numeric feature for prediction\", options=feature_candidates, index=feature_candidates.index(default_feature))\n",
        "\n",
        "    # Let user select the degree of the polynomial regression\n",
        "    degree = st.slider(\" Select polynomial degree\", 1, 5, 2)\n",
        "\n",
        "    # Drop rows where either feature or churn is missing\n",
        "    mask = (~y.isna()) & (~df[feature_column].isna())\n",
        "    if mask.sum() == 0:\n",
        "        st.error(\"⚠ No valid rows found after cleaning. Please check your selected columns.\")\n",
        "        st.stop()\n",
        "\n",
        "    # Prepare training data\n",
        "    X = df.loc[mask, [feature_column]]\n",
        "    y_clean = y[mask]\n",
        "\n",
        "    # Create polynomial features from input\n",
        "    poly = PolynomialFeatures(degree=degree)\n",
        "    X_poly = poly.fit_transform(X)\n",
        "\n",
        "    # Fit a linear regression model on polynomial features\n",
        "    model = LinearRegression()\n",
        "    model.fit(X_poly, y_clean)\n",
        "    y_pred = model.predict(X_poly)\n",
        "\n",
        "    # Evaluate and display model performance\n",
        "    mse = mean_squared_error(y_clean, y_pred)\n",
        "    st.success(f\" Model trained! MSE: {mse:.4f}\")\n",
        "\n",
        "    # Show prediction results\n",
        "    df_result = df.loc[mask].copy()\n",
        "    df_result['Predicted Churn Probability'] = y_pred\n",
        "    st.dataframe(df_result[[feature_column, churn_column, 'Predicted Churn Probability']])\n",
        "\n",
        "    # Plot actual vs predicted values\n",
        "    plt.figure(figsize=(8, 5))\n",
        "    plt.scatter(X, y_clean, color='blue', label='Actual')\n",
        "    plt.scatter(X, y_pred, color='red', label='Predicted')\n",
        "    plt.xlabel(feature_column)\n",
        "    plt.ylabel('Churn Probability')\n",
        "    plt.legend()\n",
        "    st.pyplot(plt)\n",
        "\"\"\"\n",
        "\n"
      ],
      "metadata": {
        "id": "0PVZYspt2PS5"
      },
      "execution_count": 47,
      "outputs": []
    },
    {
      "cell_type": "code",
      "source": [
        "\n",
        "with open(\"app.py\", \"w\") as f:\n",
        "    f.write(code)\n",
        "\n",
        "!pkill -f streamlit\n",
        "!pkill -f ngrok\n",
        "PORT = 7860\n",
        "!streamlit run app.py --server.port {PORT} &>/dev/null &\n",
        "from pyngrok import ngrok\n",
        "public_url = ngrok.connect(PORT)\n",
        "print(f\" Your app is live at: {public_url}\")"
      ],
      "metadata": {
        "colab": {
          "base_uri": "https://localhost:8080/"
        },
        "id": "WlZn7BdCLuGN",
        "outputId": "8bfe43f0-4c03-4e29-e261-9a2790d0925a"
      },
      "execution_count": 48,
      "outputs": [
        {
          "output_type": "stream",
          "name": "stdout",
          "text": [
            " Your app is live at: NgrokTunnel: \"https://9eb2cf244629.ngrok-free.app\" -> \"http://localhost:7860\"\n"
          ]
        }
      ]
    },
    {
      "cell_type": "code",
      "source": [
        "!pip install streamlit pyngrok scikit-learn matplotlib pandas -q"
      ],
      "metadata": {
        "id": "eO2VHgkTLihV"
      },
      "execution_count": 49,
      "outputs": []
    }
  ]
}