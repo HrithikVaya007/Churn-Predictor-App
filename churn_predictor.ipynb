{
  "nbformat": 4,
  "nbformat_minor": 0,
  "metadata": {
    "colab": {
      "provenance": [],
      "authorship_tag": "ABX9TyMKemBGjepGKFFmfskqLaA5",
      "include_colab_link": true
    },
    "kernelspec": {
      "name": "python3",
      "display_name": "Python 3"
    },
    "language_info": {
      "name": "python"
    }
  },
  "cells": [
    {
      "cell_type": "markdown",
      "metadata": {
        "id": "view-in-github",
        "colab_type": "text"
      },
      "source": [
        "<a href=\"https://colab.research.google.com/github/HrithikVaya007/Churn-Predictor-App/blob/main/churn_predictor.ipynb\" target=\"_parent\"><img src=\"https://colab.research.google.com/assets/colab-badge.svg\" alt=\"Open In Colab\"/></a>"
      ]
    },
    {
      "cell_type": "code",
      "source": [
        "code = \"\"\"\n",
        "\n",
        "import streamlit as st\n",
        "import pandas as pd\n",
        "import numpy as np\n",
        "from sklearn.preprocessing import PolynomialFeatures\n",
        "from sklearn.linear_model import LinearRegression\n",
        "from sklearn.metrics import mean_squared_error\n",
        "import matplotlib.pyplot as plt\n",
        "\n",
        "st.set_page_config(layout=\"wide\")\n",
        "st.title(\"📉 Universal Customer Churn Predictor\")\n",
        "st.markdown(\"Upload your **customer churn dataset** (.csv) and predict churn probability using **Polynomial Regression**.\")\n",
        "\n",
        "# File upload\n",
        "st.subheader(\"📂 Step 1: Upload Your Dataset\")\n",
        "uploaded_file = st.file_uploader(\"Choose a CSV file\", type=[\"csv\"])\n",
        "\n",
        "if uploaded_file:\n",
        "    df = pd.read_csv(uploaded_file)\n",
        "\n",
        "\n",
        "    for col in ['TotalCharges', 'MonthlyCharges']:\n",
        "        if col in df.columns:\n",
        "            df[col] = pd.to_numeric(df[col], errors='coerce')\n",
        "\n",
        "    # Preview data\n",
        "    with st.expander(\" Dataset Preview (first 5 rows)\"):\n",
        "        st.dataframe(df.head())\n",
        "\n",
        "    # Detect churn column\n",
        "    binary_candidates = [col for col in df.columns if df[col].nunique() == 2]\n",
        "    churn_name_matches = [col for col in df.columns if any(key in col.lower() for key in ['churn', 'exited', 'target'])]\n",
        "    default_churn = churn_name_matches[0] if churn_name_matches else (binary_candidates[0] if binary_candidates else None)\n",
        "\n",
        "    if not default_churn:\n",
        "        st.error(\" Could not detect a binary churn column. Ensure your dataset has a 0/1 or Yes/No target column.\")\n",
        "        st.stop()\n",
        "\n",
        "    st.subheader(\" Step 2: Choose Columns and Parameters\")\n",
        "    col1, col2 = st.columns(2)\n",
        "\n",
        "    with col1:\n",
        "        churn_column = st.selectbox(\" Churn Column (Binary)\", binary_candidates, index=binary_candidates.index(default_churn))\n",
        "\n",
        "    y_raw = df[churn_column]\n",
        "    if y_raw.dtype == 'O':\n",
        "        y = y_raw.astype(str).str.strip().str.lower().map({'yes': 1, 'no': 0, '1': 1, '0': 0})\n",
        "    else:\n",
        "        y = y_raw.copy()\n",
        "\n",
        "    if y.isna().all():\n",
        "        st.error(\" Churn column could not be interpreted as binary (Yes/No or 0/1).\")\n",
        "        st.stop()\n",
        "\n",
        "    numeric_columns = df.select_dtypes(include=[np.number]).columns\n",
        "    feature_candidates = [col for col in numeric_columns if col.lower() not in ['seniorcitizen', 'customerid'] and col != churn_column]\n",
        "\n",
        "    if not feature_candidates:\n",
        "        st.error(\" No valid numeric feature columns found for prediction.\")\n",
        "        st.stop()\n",
        "\n",
        "    with col2:\n",
        "        default_feature = 'MonthlyCharges' if 'MonthlyCharges' in feature_candidates else feature_candidates[0]\n",
        "        feature_column = st.selectbox(\"Numeric Feature for Prediction\", feature_candidates, index=feature_candidates.index(default_feature))\n",
        "\n",
        "    degree = st.slider(\" Polynomial Degree\", 1, 5, 2)\n",
        "\n",
        "    # Clean rows\n",
        "    mask = (~y.isna()) & (~df[feature_column].isna())\n",
        "    if mask.sum() == 0:\n",
        "        st.error(\"⚠ No valid rows found after cleaning.\")\n",
        "        st.stop()\n",
        "\n",
        "    X = df.loc[mask, [feature_column]]\n",
        "    y_clean = y[mask]\n",
        "\n",
        "    # Model training\n",
        "    st.subheader(\" Step 3: Train & Evaluate Model\")\n",
        "    with st.spinner(\" Training model...\"):\n",
        "        poly = PolynomialFeatures(degree=degree)\n",
        "        X_poly = poly.fit_transform(X)\n",
        "        model = LinearRegression()\n",
        "        model.fit(X_poly, y_clean)\n",
        "        y_pred = model.predict(X_poly)\n",
        "\n",
        "    mse = mean_squared_error(y_clean, y_pred)\n",
        "    st.success(f\" Model Trained! Mean Squared Error (MSE): `{mse:.4f}`\")\n",
        "    st.metric(label=\" Model Error (MSE)\", value=f\"{mse:.4f}\")\n",
        "\n",
        "    # Show predictions\n",
        "    df_result = df.loc[mask].copy()\n",
        "    df_result['Predicted Churn Probability'] = y_pred\n",
        "    with st.expander(\" Prediction Results Table\"):\n",
        "        st.dataframe(df_result[[feature_column, churn_column, 'Predicted Churn Probability']])\n",
        "\n",
        "    # Plot\n",
        "    st.subheader(\" Step 4: Visualize Predictions\")\n",
        "    plt.figure(figsize=(10, 5))\n",
        "    plt.scatter(X, y_clean, color='skyblue', label='Actual', alpha=0.6)\n",
        "    plt.plot(X, y_pred, color='red', label='Predicted', linewidth=2)\n",
        "    plt.xlabel(feature_column)\n",
        "    plt.ylabel(\"Churn Probability\")\n",
        "    plt.title(\"Actual vs Predicted Churn\")\n",
        "    plt.legend()\n",
        "    st.pyplot(plt)\n",
        "\n",
        "    # Footer\n",
        "    st.markdown(\"---\")\n",
        "    st.markdown(\" Built with  using Streamlit | [GitHub](https://github.com)\")\n",
        "\n",
        "\n",
        "\"\"\"\n",
        "\n"
      ],
      "metadata": {
        "id": "0PVZYspt2PS5"
      },
      "execution_count": 22,
      "outputs": []
    },
    {
      "cell_type": "code",
      "source": [
        "\n",
        "with open(\"app.py\", \"w\") as f:\n",
        "    f.write(code)\n",
        "\n",
        "!pkill -f streamlit\n",
        "!pkill -f ngrok\n",
        "PORT = 7860\n",
        "!streamlit run app.py --server.port {PORT} &>/dev/null &\n",
        "from pyngrok import ngrok\n",
        "public_url = ngrok.connect(PORT)\n",
        "print(f\" Your app is live at: {public_url}\")"
      ],
      "metadata": {
        "colab": {
          "base_uri": "https://localhost:8080/"
        },
        "id": "WlZn7BdCLuGN",
        "outputId": "20b1a5d8-944a-4965-d8bb-811215e2e96b"
      },
      "execution_count": 23,
      "outputs": [
        {
          "output_type": "stream",
          "name": "stdout",
          "text": [
            " Your app is live at: NgrokTunnel: \"https://428497ea1b91.ngrok-free.app\" -> \"http://localhost:7860\"\n"
          ]
        }
      ]
    },
    {
      "cell_type": "code",
      "source": [
        "from pyngrok import conf\n",
        "conf.get_default().auth_token = \"31ByqE1BLmLk5lXgnRB3VhngGGK_69efqj9DVjLvNdoyxCZ7j\"\n",
        "\n"
      ],
      "metadata": {
        "id": "OKkjSKluQAom"
      },
      "execution_count": 24,
      "outputs": []
    },
    {
      "cell_type": "code",
      "source": [
        "pip install streamlit pandas numpy scikit-learn matplotlib ngrok\n"
      ],
      "metadata": {
        "colab": {
          "base_uri": "https://localhost:8080/"
        },
        "id": "_nt8iGcKPNYb",
        "outputId": "b7748220-0566-4040-948d-c9b298e6f394"
      },
      "execution_count": 25,
      "outputs": [
        {
          "output_type": "stream",
          "name": "stdout",
          "text": [
            "Requirement already satisfied: streamlit in /usr/local/lib/python3.11/dist-packages (1.48.1)\n",
            "Requirement already satisfied: pandas in /usr/local/lib/python3.11/dist-packages (2.2.2)\n",
            "Requirement already satisfied: numpy in /usr/local/lib/python3.11/dist-packages (2.0.2)\n",
            "Requirement already satisfied: scikit-learn in /usr/local/lib/python3.11/dist-packages (1.6.1)\n",
            "Requirement already satisfied: matplotlib in /usr/local/lib/python3.11/dist-packages (3.10.0)\n",
            "Requirement already satisfied: ngrok in /usr/local/lib/python3.11/dist-packages (1.4.0)\n",
            "Requirement already satisfied: altair!=5.4.0,!=5.4.1,<6,>=4.0 in /usr/local/lib/python3.11/dist-packages (from streamlit) (5.5.0)\n",
            "Requirement already satisfied: blinker<2,>=1.5.0 in /usr/local/lib/python3.11/dist-packages (from streamlit) (1.9.0)\n",
            "Requirement already satisfied: cachetools<7,>=4.0 in /usr/local/lib/python3.11/dist-packages (from streamlit) (5.5.2)\n",
            "Requirement already satisfied: click<9,>=7.0 in /usr/local/lib/python3.11/dist-packages (from streamlit) (8.2.1)\n",
            "Requirement already satisfied: packaging<26,>=20 in /usr/local/lib/python3.11/dist-packages (from streamlit) (25.0)\n",
            "Requirement already satisfied: pillow<12,>=7.1.0 in /usr/local/lib/python3.11/dist-packages (from streamlit) (11.3.0)\n",
            "Requirement already satisfied: protobuf<7,>=3.20 in /usr/local/lib/python3.11/dist-packages (from streamlit) (5.29.5)\n",
            "Requirement already satisfied: pyarrow>=7.0 in /usr/local/lib/python3.11/dist-packages (from streamlit) (18.1.0)\n",
            "Requirement already satisfied: requests<3,>=2.27 in /usr/local/lib/python3.11/dist-packages (from streamlit) (2.32.3)\n",
            "Requirement already satisfied: tenacity<10,>=8.1.0 in /usr/local/lib/python3.11/dist-packages (from streamlit) (9.1.2)\n",
            "Requirement already satisfied: toml<2,>=0.10.1 in /usr/local/lib/python3.11/dist-packages (from streamlit) (0.10.2)\n",
            "Requirement already satisfied: typing-extensions<5,>=4.4.0 in /usr/local/lib/python3.11/dist-packages (from streamlit) (4.14.1)\n",
            "Requirement already satisfied: watchdog<7,>=2.1.5 in /usr/local/lib/python3.11/dist-packages (from streamlit) (6.0.0)\n",
            "Requirement already satisfied: gitpython!=3.1.19,<4,>=3.0.7 in /usr/local/lib/python3.11/dist-packages (from streamlit) (3.1.45)\n",
            "Requirement already satisfied: pydeck<1,>=0.8.0b4 in /usr/local/lib/python3.11/dist-packages (from streamlit) (0.9.1)\n",
            "Requirement already satisfied: tornado!=6.5.0,<7,>=6.0.3 in /usr/local/lib/python3.11/dist-packages (from streamlit) (6.4.2)\n",
            "Requirement already satisfied: python-dateutil>=2.8.2 in /usr/local/lib/python3.11/dist-packages (from pandas) (2.9.0.post0)\n",
            "Requirement already satisfied: pytz>=2020.1 in /usr/local/lib/python3.11/dist-packages (from pandas) (2025.2)\n",
            "Requirement already satisfied: tzdata>=2022.7 in /usr/local/lib/python3.11/dist-packages (from pandas) (2025.2)\n",
            "Requirement already satisfied: scipy>=1.6.0 in /usr/local/lib/python3.11/dist-packages (from scikit-learn) (1.16.1)\n",
            "Requirement already satisfied: joblib>=1.2.0 in /usr/local/lib/python3.11/dist-packages (from scikit-learn) (1.5.1)\n",
            "Requirement already satisfied: threadpoolctl>=3.1.0 in /usr/local/lib/python3.11/dist-packages (from scikit-learn) (3.6.0)\n",
            "Requirement already satisfied: contourpy>=1.0.1 in /usr/local/lib/python3.11/dist-packages (from matplotlib) (1.3.3)\n",
            "Requirement already satisfied: cycler>=0.10 in /usr/local/lib/python3.11/dist-packages (from matplotlib) (0.12.1)\n",
            "Requirement already satisfied: fonttools>=4.22.0 in /usr/local/lib/python3.11/dist-packages (from matplotlib) (4.59.0)\n",
            "Requirement already satisfied: kiwisolver>=1.3.1 in /usr/local/lib/python3.11/dist-packages (from matplotlib) (1.4.9)\n",
            "Requirement already satisfied: pyparsing>=2.3.1 in /usr/local/lib/python3.11/dist-packages (from matplotlib) (3.2.3)\n",
            "Requirement already satisfied: jinja2 in /usr/local/lib/python3.11/dist-packages (from altair!=5.4.0,!=5.4.1,<6,>=4.0->streamlit) (3.1.6)\n",
            "Requirement already satisfied: jsonschema>=3.0 in /usr/local/lib/python3.11/dist-packages (from altair!=5.4.0,!=5.4.1,<6,>=4.0->streamlit) (4.25.0)\n",
            "Requirement already satisfied: narwhals>=1.14.2 in /usr/local/lib/python3.11/dist-packages (from altair!=5.4.0,!=5.4.1,<6,>=4.0->streamlit) (2.1.1)\n",
            "Requirement already satisfied: gitdb<5,>=4.0.1 in /usr/local/lib/python3.11/dist-packages (from gitpython!=3.1.19,<4,>=3.0.7->streamlit) (4.0.12)\n",
            "Requirement already satisfied: six>=1.5 in /usr/local/lib/python3.11/dist-packages (from python-dateutil>=2.8.2->pandas) (1.17.0)\n",
            "Requirement already satisfied: charset-normalizer<4,>=2 in /usr/local/lib/python3.11/dist-packages (from requests<3,>=2.27->streamlit) (3.4.3)\n",
            "Requirement already satisfied: idna<4,>=2.5 in /usr/local/lib/python3.11/dist-packages (from requests<3,>=2.27->streamlit) (3.10)\n",
            "Requirement already satisfied: urllib3<3,>=1.21.1 in /usr/local/lib/python3.11/dist-packages (from requests<3,>=2.27->streamlit) (2.5.0)\n",
            "Requirement already satisfied: certifi>=2017.4.17 in /usr/local/lib/python3.11/dist-packages (from requests<3,>=2.27->streamlit) (2025.8.3)\n",
            "Requirement already satisfied: smmap<6,>=3.0.1 in /usr/local/lib/python3.11/dist-packages (from gitdb<5,>=4.0.1->gitpython!=3.1.19,<4,>=3.0.7->streamlit) (5.0.2)\n",
            "Requirement already satisfied: MarkupSafe>=2.0 in /usr/local/lib/python3.11/dist-packages (from jinja2->altair!=5.4.0,!=5.4.1,<6,>=4.0->streamlit) (3.0.2)\n",
            "Requirement already satisfied: attrs>=22.2.0 in /usr/local/lib/python3.11/dist-packages (from jsonschema>=3.0->altair!=5.4.0,!=5.4.1,<6,>=4.0->streamlit) (25.3.0)\n",
            "Requirement already satisfied: jsonschema-specifications>=2023.03.6 in /usr/local/lib/python3.11/dist-packages (from jsonschema>=3.0->altair!=5.4.0,!=5.4.1,<6,>=4.0->streamlit) (2025.4.1)\n",
            "Requirement already satisfied: referencing>=0.28.4 in /usr/local/lib/python3.11/dist-packages (from jsonschema>=3.0->altair!=5.4.0,!=5.4.1,<6,>=4.0->streamlit) (0.36.2)\n",
            "Requirement already satisfied: rpds-py>=0.7.1 in /usr/local/lib/python3.11/dist-packages (from jsonschema>=3.0->altair!=5.4.0,!=5.4.1,<6,>=4.0->streamlit) (0.27.0)\n"
          ]
        }
      ]
    }
  ]
}